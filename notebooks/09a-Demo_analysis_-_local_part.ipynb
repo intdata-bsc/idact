{
 "cells": [
  {
   "cell_type": "markdown",
   "metadata": {},
   "source": [
    "# 09a. Demo analysis - local part"
   ]
  },
  {
   "cell_type": "markdown",
   "metadata": {},
   "source": [
    "## Overview"
   ]
  },
  {
   "cell_type": "markdown",
   "metadata": {},
   "source": [
    "In this notebook and its remote counterpart `09b`, you will learn how to:\n",
    "\n",
    " - Download a large quantity of CSV data for analysis.\n",
    " - Load the data using Dask on the cluster.\n",
    " - Convert the data to a more suitable format: Apache Parquet.\n",
    " - Load the data from Parquet.\n",
    " - Perform a simple data analysis."
   ]
  },
  {
   "cell_type": "markdown",
   "metadata": {},
   "source": [
    "## Install an SSH client\n",
    "\n",
    "For this tutorial, we will need an SSH client to connect to the cluster. It's likely you already have OpenSSH on Linux and Windows 10. PuTTY on Windows will work too."
   ]
  },
  {
   "cell_type": "markdown",
   "metadata": {},
   "source": [
    "## Import idact"
   ]
  },
  {
   "cell_type": "markdown",
   "metadata": {},
   "source": [
    "It's recommended that *idact* is installed with *pip*.  \n",
    "Alternatively, make sure the dependencies are installed: `pip install -r requirements.txt`, and add *idact* to path, for example:  \n",
    "`import sys`  \n",
    "`sys.path.append('<YOUR_IDACT_PATH>')`"
   ]
  },
  {
   "cell_type": "markdown",
   "metadata": {},
   "source": [
    "We will use a wildcard import for convenience:"
   ]
  },
  {
   "cell_type": "code",
   "execution_count": null,
   "metadata": {},
   "outputs": [],
   "source": [
    "from idact import *\n",
    "import bitmath"
   ]
  },
  {
   "cell_type": "markdown",
   "metadata": {},
   "source": [
    "## Load the cluster"
   ]
  },
  {
   "cell_type": "markdown",
   "metadata": {},
   "source": [
    "Let's load the environment and the cluster. Make sure to use your cluster name."
   ]
  },
  {
   "cell_type": "code",
   "execution_count": null,
   "metadata": {},
   "outputs": [],
   "source": [
    "load_environment()\n",
    "cluster = show_cluster(\"test\")\n",
    "cluster"
   ]
  },
  {
   "cell_type": "code",
   "execution_count": null,
   "metadata": {},
   "outputs": [],
   "source": [
    "access_node = cluster.get_access_node()\n",
    "access_node.connect()"
   ]
  },
  {
   "cell_type": "markdown",
   "metadata": {},
   "source": [
    "## Find the data to analyze"
   ]
  },
  {
   "cell_type": "markdown",
   "metadata": {},
   "source": [
    "There is a lot of open source datasets available online for free. In many cases, you need to pay for the bandwidth though, especially if the dataset is more that a few gigabytes. In some cases, especially when the data is from government agencies, it's available fully free of charge.\n",
    "\n",
    "I will use the New York City Taxi & Limousine Commission Trip Record Data (yellow) for years 2010-2014, available [here](http://www.nyc.gov/html/tlc/html/about/trip_record_data.shtml).\n",
    "Since 2015, there was a slight change in formatting, so we'll not worry about the newer data for now.\n",
    "\n",
    "For the years we're interested in, there is a CSV file for each month, so we have 12\\*5=60 CSV files, with the total size of 143GiB."
   ]
  },
  {
   "cell_type": "markdown",
   "metadata": {},
   "source": [
    "## Download the data"
   ]
  },
  {
   "cell_type": "markdown",
   "metadata": {},
   "source": [
    "We will download the data straight to the cluster, by logging in to a compute node through SSH. \n",
    "\n",
    "Let's allocate the node. We will download two years at a time, so let's get 24 cores for an hour, though the download shouldn't take that long."
   ]
  },
  {
   "cell_type": "code",
   "execution_count": null,
   "metadata": {},
   "outputs": [],
   "source": [
    "nodes = cluster.allocate_nodes(nodes=1,\n",
    "                               cores=24,\n",
    "                               memory_per_node=bitmath.GiB(120),\n",
    "                               walltime=Walltime(hours=1),\n",
    "                               native_args={\n",
    "                                   '--account': 'intdata',\n",
    "                               })\n",
    "nodes"
   ]
  },
  {
   "cell_type": "code",
   "execution_count": null,
   "metadata": {},
   "outputs": [],
   "source": [
    "nodes.wait()\n",
    "nodes"
   ]
  },
  {
   "cell_type": "markdown",
   "metadata": {},
   "source": [
    "Let's log in to the node by creating a tunnel:"
   ]
  },
  {
   "cell_type": "code",
   "execution_count": null,
   "metadata": {},
   "outputs": [],
   "source": [
    "tunnel = nodes[0].tunnel_ssh()\n",
    "tunnel"
   ]
  },
  {
   "cell_type": "markdown",
   "metadata": {},
   "source": [
    "If you have OpenSSH, the command printed above should work. Otherwise, you need to copy the key path, host and port to PuTTY."
   ]
  },
  {
   "cell_type": "markdown",
   "metadata": {},
   "source": [
    "Once on the node, let's pick a directory to download the data into. Depending on the cluster and available resources, you may have a team storage area for persistent data.\n",
    "\n",
    "On my cluster, there is also a temporary (30 day) personal storage determined by the environment variable `$SCRATCH`, which I will use for now."
   ]
  },
  {
   "cell_type": "markdown",
   "metadata": {},
   "source": [
    "Let's create a directory for the data:\n",
    "```\n",
    "cd $SCRATCH && mkdir taxi && cd taxi\n",
    "```"
   ]
  },
  {
   "cell_type": "markdown",
   "metadata": {},
   "source": [
    "Then, download the data. I downloaded the CSV files using wget in batches of 24."
   ]
  },
  {
   "cell_type": "markdown",
   "metadata": {},
   "source": [
    "```\n",
    "wget https://s3.amazonaws.com/nyc-tlc/trip+data/yellow_tripdata_2014-01.csv &\n",
    "wget https://s3.amazonaws.com/nyc-tlc/trip+data/yellow_tripdata_2014-02.csv &\n",
    "wget https://s3.amazonaws.com/nyc-tlc/trip+data/yellow_tripdata_2014-03.csv &\n",
    "wget https://s3.amazonaws.com/nyc-tlc/trip+data/yellow_tripdata_2014-04.csv &\n",
    "wget https://s3.amazonaws.com/nyc-tlc/trip+data/yellow_tripdata_2014-05.csv &\n",
    "wget https://s3.amazonaws.com/nyc-tlc/trip+data/yellow_tripdata_2014-06.csv &\n",
    "wget https://s3.amazonaws.com/nyc-tlc/trip+data/yellow_tripdata_2014-07.csv &\n",
    "wget https://s3.amazonaws.com/nyc-tlc/trip+data/yellow_tripdata_2014-08.csv &\n",
    "wget https://s3.amazonaws.com/nyc-tlc/trip+data/yellow_tripdata_2014-09.csv &\n",
    "wget https://s3.amazonaws.com/nyc-tlc/trip+data/yellow_tripdata_2014-10.csv &\n",
    "wget https://s3.amazonaws.com/nyc-tlc/trip+data/yellow_tripdata_2014-11.csv &\n",
    "wget https://s3.amazonaws.com/nyc-tlc/trip+data/yellow_tripdata_2014-12.csv &\n",
    "wget https://s3.amazonaws.com/nyc-tlc/trip+data/yellow_tripdata_2013-01.csv &\n",
    "wget https://s3.amazonaws.com/nyc-tlc/trip+data/yellow_tripdata_2013-02.csv &\n",
    "wget https://s3.amazonaws.com/nyc-tlc/trip+data/yellow_tripdata_2013-03.csv &\n",
    "wget https://s3.amazonaws.com/nyc-tlc/trip+data/yellow_tripdata_2013-04.csv &\n",
    "wget https://s3.amazonaws.com/nyc-tlc/trip+data/yellow_tripdata_2013-05.csv &\n",
    "wget https://s3.amazonaws.com/nyc-tlc/trip+data/yellow_tripdata_2013-06.csv &\n",
    "wget https://s3.amazonaws.com/nyc-tlc/trip+data/yellow_tripdata_2013-07.csv &\n",
    "wget https://s3.amazonaws.com/nyc-tlc/trip+data/yellow_tripdata_2013-08.csv &\n",
    "wget https://s3.amazonaws.com/nyc-tlc/trip+data/yellow_tripdata_2013-09.csv &\n",
    "wget https://s3.amazonaws.com/nyc-tlc/trip+data/yellow_tripdata_2013-10.csv &\n",
    "wget https://s3.amazonaws.com/nyc-tlc/trip+data/yellow_tripdata_2013-11.csv &\n",
    "wget https://s3.amazonaws.com/nyc-tlc/trip+data/yellow_tripdata_2013-12.csv &\n",
    "\n",
    "wget https://s3.amazonaws.com/nyc-tlc/trip+data/yellow_tripdata_2012-01.csv &\n",
    "wget https://s3.amazonaws.com/nyc-tlc/trip+data/yellow_tripdata_2012-02.csv &\n",
    "wget https://s3.amazonaws.com/nyc-tlc/trip+data/yellow_tripdata_2012-03.csv &\n",
    "wget https://s3.amazonaws.com/nyc-tlc/trip+data/yellow_tripdata_2012-04.csv &\n",
    "wget https://s3.amazonaws.com/nyc-tlc/trip+data/yellow_tripdata_2012-05.csv &\n",
    "wget https://s3.amazonaws.com/nyc-tlc/trip+data/yellow_tripdata_2012-06.csv &\n",
    "wget https://s3.amazonaws.com/nyc-tlc/trip+data/yellow_tripdata_2012-07.csv &\n",
    "wget https://s3.amazonaws.com/nyc-tlc/trip+data/yellow_tripdata_2012-08.csv &\n",
    "wget https://s3.amazonaws.com/nyc-tlc/trip+data/yellow_tripdata_2012-09.csv &\n",
    "wget https://s3.amazonaws.com/nyc-tlc/trip+data/yellow_tripdata_2012-10.csv &\n",
    "wget https://s3.amazonaws.com/nyc-tlc/trip+data/yellow_tripdata_2012-11.csv &\n",
    "wget https://s3.amazonaws.com/nyc-tlc/trip+data/yellow_tripdata_2012-12.csv &\n",
    "wget https://s3.amazonaws.com/nyc-tlc/trip+data/yellow_tripdata_2011-01.csv &\n",
    "wget https://s3.amazonaws.com/nyc-tlc/trip+data/yellow_tripdata_2011-02.csv &\n",
    "wget https://s3.amazonaws.com/nyc-tlc/trip+data/yellow_tripdata_2011-03.csv &\n",
    "wget https://s3.amazonaws.com/nyc-tlc/trip+data/yellow_tripdata_2011-04.csv &\n",
    "wget https://s3.amazonaws.com/nyc-tlc/trip+data/yellow_tripdata_2011-05.csv &\n",
    "wget https://s3.amazonaws.com/nyc-tlc/trip+data/yellow_tripdata_2011-06.csv &\n",
    "wget https://s3.amazonaws.com/nyc-tlc/trip+data/yellow_tripdata_2011-07.csv &\n",
    "wget https://s3.amazonaws.com/nyc-tlc/trip+data/yellow_tripdata_2011-08.csv &\n",
    "wget https://s3.amazonaws.com/nyc-tlc/trip+data/yellow_tripdata_2011-09.csv &\n",
    "wget https://s3.amazonaws.com/nyc-tlc/trip+data/yellow_tripdata_2011-10.csv &\n",
    "wget https://s3.amazonaws.com/nyc-tlc/trip+data/yellow_tripdata_2011-11.csv &\n",
    "wget https://s3.amazonaws.com/nyc-tlc/trip+data/yellow_tripdata_2011-12.csv &\n",
    "\n",
    "wget https://s3.amazonaws.com/nyc-tlc/trip+data/yellow_tripdata_2010-01.csv &\n",
    "wget https://s3.amazonaws.com/nyc-tlc/trip+data/yellow_tripdata_2010-02.csv &\n",
    "wget https://s3.amazonaws.com/nyc-tlc/trip+data/yellow_tripdata_2010-03.csv &\n",
    "wget https://s3.amazonaws.com/nyc-tlc/trip+data/yellow_tripdata_2010-04.csv &\n",
    "wget https://s3.amazonaws.com/nyc-tlc/trip+data/yellow_tripdata_2010-05.csv &\n",
    "wget https://s3.amazonaws.com/nyc-tlc/trip+data/yellow_tripdata_2010-06.csv &\n",
    "wget https://s3.amazonaws.com/nyc-tlc/trip+data/yellow_tripdata_2010-07.csv &\n",
    "wget https://s3.amazonaws.com/nyc-tlc/trip+data/yellow_tripdata_2010-08.csv &\n",
    "wget https://s3.amazonaws.com/nyc-tlc/trip+data/yellow_tripdata_2010-09.csv &\n",
    "wget https://s3.amazonaws.com/nyc-tlc/trip+data/yellow_tripdata_2010-10.csv &\n",
    "wget https://s3.amazonaws.com/nyc-tlc/trip+data/yellow_tripdata_2010-11.csv &\n",
    "wget https://s3.amazonaws.com/nyc-tlc/trip+data/yellow_tripdata_2010-12.csv &\n",
    "```"
   ]
  },
  {
   "cell_type": "markdown",
   "metadata": {},
   "source": [
    "## Install fastparquet on the cluster"
   ]
  },
  {
   "cell_type": "markdown",
   "metadata": {},
   "source": [
    "We will need `fastparquet` on the cluster, so while you have the access to the compute node, install \n",
    "it in your Python environment, e.g.:\n",
    "```\n",
    "pip install fastparquet --user\n",
    "```"
   ]
  },
  {
   "cell_type": "markdown",
   "metadata": {},
   "source": [
    "## Cancel the download node allocation"
   ]
  },
  {
   "cell_type": "markdown",
   "metadata": {},
   "source": [
    "We're done, so we won't need the node anymore. Let's close the ssh tunnel and cancel the allocation."
   ]
  },
  {
   "cell_type": "code",
   "execution_count": null,
   "metadata": {},
   "outputs": [],
   "source": [
    "tunnel.close()\n",
    "nodes.cancel()"
   ]
  },
  {
   "cell_type": "markdown",
   "metadata": {},
   "source": [
    "## Allocate nodes for conversion from CSV to Apache Parquet"
   ]
  },
  {
   "cell_type": "markdown",
   "metadata": {},
   "source": [
    "Let's allocate a few nodes."
   ]
  },
  {
   "cell_type": "code",
   "execution_count": null,
   "metadata": {},
   "outputs": [],
   "source": [
    "nodes = cluster.allocate_nodes(nodes=6,\n",
    "                               cores=24,\n",
    "                               memory_per_node=bitmath.GiB(120),\n",
    "                               walltime=Walltime(hours=1),\n",
    "                               native_args={\n",
    "                                   '--account': 'intdata',\n",
    "                                   '--partition': 'plgrid-testing'\n",
    "                               })"
   ]
  },
  {
   "cell_type": "code",
   "execution_count": null,
   "metadata": {},
   "outputs": [],
   "source": [
    "nodes.wait()\n",
    "nodes"
   ]
  },
  {
   "cell_type": "markdown",
   "metadata": {},
   "source": [
    "Deploy a Jupyter Notebook:"
   ]
  },
  {
   "cell_type": "code",
   "execution_count": null,
   "metadata": {},
   "outputs": [],
   "source": [
    "nb = nodes[0].deploy_notebook()\n",
    "nb"
   ]
  },
  {
   "cell_type": "markdown",
   "metadata": {},
   "source": [
    "Then, Dask:"
   ]
  },
  {
   "cell_type": "code",
   "execution_count": null,
   "metadata": {},
   "outputs": [],
   "source": [
    "dd = deploy_dask(nodes)\n",
    "dd"
   ]
  },
  {
   "cell_type": "markdown",
   "metadata": {},
   "source": [
    "Push the nodes and Dask deployment, because we'll use them on the cluster:"
   ]
  },
  {
   "cell_type": "code",
   "execution_count": null,
   "metadata": {},
   "outputs": [],
   "source": [
    "cluster.clear_pushed_deployments()\n",
    "cluster.push_deployment(nodes)\n",
    "cluster.push_deployment(dd)"
   ]
  },
  {
   "cell_type": "markdown",
   "metadata": {},
   "source": [
    "## Open the Dask Dashboard"
   ]
  },
  {
   "cell_type": "markdown",
   "metadata": {},
   "source": [
    "Open the scheduler dashboard:"
   ]
  },
  {
   "cell_type": "code",
   "execution_count": null,
   "metadata": {},
   "outputs": [],
   "source": [
    "client = dd.get_client()\n",
    "client"
   ]
  },
  {
   "cell_type": "markdown",
   "metadata": {},
   "source": [
    "There is nothing interesting there for now, but we will observe what happens when we load the data later."
   ]
  },
  {
   "cell_type": "markdown",
   "metadata": {},
   "source": [
    "You can also browse the dashboards for workers as well, if you want:"
   ]
  },
  {
   "cell_type": "code",
   "execution_count": null,
   "metadata": {},
   "outputs": [],
   "source": [
    "dd.diagnostics.addresses\n",
    "# dd.diagnostics.open_all()"
   ]
  },
  {
   "cell_type": "markdown",
   "metadata": {},
   "source": [
    "We don't need the client anymore here:"
   ]
  },
  {
   "cell_type": "code",
   "execution_count": null,
   "metadata": {},
   "outputs": [],
   "source": [
    "client.close()"
   ]
  },
  {
   "cell_type": "markdown",
   "metadata": {},
   "source": [
    "## Copy notebook `09b` to the cluster"
   ]
  },
  {
   "cell_type": "markdown",
   "metadata": {},
   "source": [
    "Drag and drop `09b-Demo_analysis_-_remote_part.ipynb` to the deployed notebook, and open it there."
   ]
  },
  {
   "cell_type": "code",
   "execution_count": null,
   "metadata": {},
   "outputs": [],
   "source": [
    "nb.open_in_browser()"
   ]
  },
  {
   "cell_type": "markdown",
   "metadata": {},
   "source": [
    "## Follow the instructions in notebook `09b`"
   ]
  },
  {
   "cell_type": "markdown",
   "metadata": {},
   "source": [
    "Follow the instructions until you are referred back to this notebook."
   ]
  },
  {
   "cell_type": "markdown",
   "metadata": {},
   "source": [
    "## Cancel the allocation"
   ]
  },
  {
   "cell_type": "markdown",
   "metadata": {},
   "source": [
    "It's important to cancel an allocation if you're done with it early, in order to minimize the CPU time you are charged for."
   ]
  },
  {
   "cell_type": "code",
   "execution_count": null,
   "metadata": {},
   "outputs": [],
   "source": [
    "nodes.running()"
   ]
  },
  {
   "cell_type": "code",
   "execution_count": null,
   "metadata": {},
   "outputs": [],
   "source": [
    "nodes.cancel()"
   ]
  },
  {
   "cell_type": "code",
   "execution_count": null,
   "metadata": {},
   "outputs": [],
   "source": [
    "nodes.running()"
   ]
  }
 ],
 "metadata": {
  "kernelspec": {
   "display_name": "Python 3",
   "language": "python",
   "name": "python3"
  },
  "language_info": {
   "codemirror_mode": {
    "name": "ipython",
    "version": 3
   },
   "file_extension": ".py",
   "mimetype": "text/x-python",
   "name": "python",
   "nbconvert_exporter": "python",
   "pygments_lexer": "ipython3",
   "version": "3.7.2"
  }
 },
 "nbformat": 4,
 "nbformat_minor": 2
}
